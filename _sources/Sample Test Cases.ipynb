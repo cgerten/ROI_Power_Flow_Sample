{
 "cells": [
  {
   "cell_type": "markdown",
   "metadata": {},
   "source": [
    "# Sample Test Cases"
   ]
  },
  {
   "cell_type": "markdown",
   "metadata": {},
   "source": [
    "Let's begin by investigating a prospective solar project in the early stages, with a target energization of 2031. "
   ]
  },
  {
   "cell_type": "markdown",
   "metadata": {},
   "source": [
    "![Sample Solar Prospective Project](Potential_project_sites.png)\n",
    "\n",
    "Hypothetically, if you have land in either of these general areas highlighted in the image above for solar generation development large enough to reasonably achieve 50-100 MW maximum export capacity (MEC). You may see benefit in an early screening as to which circuit would be better suited for connection."
   ]
  },
  {
   "cell_type": "markdown",
   "metadata": {},
   "source": [
    "Desktop review would reveal the following ratings for each circuit:\n",
    "\n",
    "Cashla - Ennis 110kV (178/209 MVA)\n",
    "\n",
    "Agannygal - Ennis 110kV (99/121 MVA)\n",
    "\n",
    "Castlebar - Cloon 110kV (178/209 MVA)\n",
    "\n",
    "Cashla - Doon 110kV (99/121 MVA), uprate planned according to NDP and Transmission Development Plan under CP1428"
   ]
  },
  {
   "cell_type": "markdown",
   "metadata": {},
   "source": [
    "After reviewing the other network elements and generators we can obtain the first powerflow screening for each individual circuit. The below demonstrates a Summer Peak case in 2031 with solar generation dispatched to nearly 100%, wind generation dispatched to nearly 0%, storage set to 0%, interconnectors set to high export levels and other standard generation set to minimal thresholds according to minimum system operation guidelines. "
   ]
  },
  {
   "cell_type": "markdown",
   "metadata": {},
   "source": [
    "![Sample Solar Prospective Project](Agannygal_Ennis_solar.png)\n",
    "\n",
    "![Sample Solar Prospective Project](Cashla_Ennis_solar.png)\n",
    "\n",
    "![Sample Solar Prospective Project](Cashla_Dalton_solar.png)\n",
    "\n",
    "![Sample Solar Prospective Project](Castlebar_Cloon_solar.png)\n"
   ]
  },
  {
   "cell_type": "markdown",
   "metadata": {},
   "source": []
  }
 ],
 "metadata": {
  "kernelspec": {
   "display_name": "roi-power-flow-sample-aukJIi7B-py3.12",
   "language": "python",
   "name": "python3"
  },
  "language_info": {
   "codemirror_mode": {
    "name": "ipython",
    "version": 3
   },
   "file_extension": ".py",
   "mimetype": "text/x-python",
   "name": "python",
   "nbconvert_exporter": "python",
   "pygments_lexer": "ipython3",
   "version": "3.12.1"
  }
 },
 "nbformat": 4,
 "nbformat_minor": 2
}
