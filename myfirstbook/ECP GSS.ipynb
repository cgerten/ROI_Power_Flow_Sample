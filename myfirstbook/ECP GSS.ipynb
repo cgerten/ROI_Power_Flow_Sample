{
 "cells": [
  {
   "cell_type": "markdown",
   "metadata": {},
   "source": [
    "# ECP GSS"
   ]
  },
  {
   "cell_type": "markdown",
   "metadata": {},
   "source": [
    "![ECP GSS](Dungarvan_area.png)"
   ]
  },
  {
   "cell_type": "markdown",
   "metadata": {},
   "source": []
  }
 ],
 "metadata": {
  "language_info": {
   "name": "python"
  }
 },
 "nbformat": 4,
 "nbformat_minor": 2
}
