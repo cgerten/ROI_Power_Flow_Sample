{
 "cells": [
  {
   "cell_type": "markdown",
   "metadata": {},
   "source": [
    "# Case Study"
   ]
  },
  {
   "cell_type": "markdown",
   "metadata": {},
   "source": [
    "**Understanding the potential capacity impacts of Coom Green Energy park within ECP-2.4 (171 MW Wind and Battery Storage)**\n",
    "\n",
    "- Many projects within ECP-2.4 are large enough to have a significant impact to the load flows in their local region of the network. Coom Green is just one example where alternative connection methods can lead to significant but shifted impacts as well as future cross technology generation opportunities. "
   ]
  },
  {
   "cell_type": "markdown",
   "metadata": {},
   "source": [
    "![Coom Green](Coom_Green.png)"
   ]
  },
  {
   "cell_type": "markdown",
   "metadata": {},
   "source": [
    "Certain infrastructure limitations may prevent Coom Green from connecting through Barrymore or Mallow stations. Connecting through the 220kV network may be cost prohibitive. However, "
   ]
  },
  {
   "cell_type": "markdown",
   "metadata": {},
   "source": []
  }
 ],
 "metadata": {
  "language_info": {
   "codemirror_mode": {
    "name": "ipython",
    "version": 3
   },
   "file_extension": ".py",
   "mimetype": "text/x-python",
   "name": "python",
   "nbconvert_exporter": "python",
   "pygments_lexer": "ipython3",
   "version": "3.12.1"
  }
 },
 "nbformat": 4,
 "nbformat_minor": 2
}