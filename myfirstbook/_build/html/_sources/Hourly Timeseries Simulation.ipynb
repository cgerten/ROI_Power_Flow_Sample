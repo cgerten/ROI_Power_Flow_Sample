{
 "cells": [
  {
   "cell_type": "markdown",
   "metadata": {},
   "source": [
    "# Hourly Timeseries Simulation"
   ]
  },
  {
   "cell_type": "markdown",
   "metadata": {},
   "source": [
    "While the static load flow cases are useful, there is a need within the industry for more depth in order to understand how new generators or network reinforcements impact the system during normal operation. Existing optimized economic dispatch tools such as PLEXOS and GAMS are used within power system planning to simulate realistic operation while meeting various constraints. These tools are useful within the industry, but remain computationally intensive, expensive, and take signficiant time to produce outputs with different sensitivites such as ECP constraint reports. \n",
    "\n",
    "In light of the recent decision on Large Energy User connection, there will be a push for Eirgrid to create a network capacity tool similar to what has been created for the distribution network by ESB. It may not be feasible to have a new transmission network capacity tool supported by data from quarterly simulations using PLEXOS. Instead, this pandapower based tool is a capable alternative. "
   ]
  },
  {
   "cell_type": "markdown",
   "metadata": {},
   "source": [
    "# Method"
   ]
  },
  {
   "cell_type": "markdown",
   "metadata": {},
   "source": [
    "The first stage in the timeseries simulation part of this tool consists of creating a balanced power system model for each hour. The model is given a set of hourly values representing demand factor of peak, wind capacity factor and solar capacity factor. Each hour seeks to maximize the amount of solar and wind generation dispatch with respect to demand until convergence is reached. In doing so, a general dispatch priority order is utilized rather than a detailed economic dispatch. For example, if wind and solar generation only fills 10% of demand, battery storage is dispatched next, followed by interconnectors, followed by gas generators. Likewise, if wind and solar generation is high, battery storage will import, interconnectors can export, and conventional generators will be set to their minimum levels. \n",
    "\n",
    "This leaves room for edits, but keeps the focus on hourly load flow and realistic system dispatch. If the user would like specific battery storage projects with duration of 8 hours and others with 4 hour duration, they are able to incorporate that. Currently the script operates dispatching all battery storage uniformly, charging when renewable generation is high and discharging when renewables are low. This is another area that can be modified, if specific projects seek to dispatch based on local generation/demand rather than central system-wide dispatch. Likewise, edits can be made for specifc large energy users even though the currently operation assumes uniform demand behavior according to the system wide hourly demand factor. "
   ]
  },
  {
   "cell_type": "markdown",
   "metadata": {},
   "source": [
    "![ECP GSS](Dungarvan_area.png)"
   ]
  },
  {
   "cell_type": "markdown",
   "metadata": {},
   "source": []
  }
 ],
 "metadata": {
  "language_info": {
   "name": "python"
  }
 },
 "nbformat": 4,
 "nbformat_minor": 2
}
