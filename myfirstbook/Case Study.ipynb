{
 "cells": [
  {
   "cell_type": "markdown",
   "metadata": {},
   "source": [
    "# Case Study"
   ]
  },
  {
   "cell_type": "markdown",
   "metadata": {},
   "source": [
    "**Understanding the potential capacity impacts of Coom Green Energy park within ECP-2.4 (171 MW Wind and Battery Storage)**\n",
    "\n",
    "- Many projects within ECP-2.4 are large enough to have a significant impact to the load flows in their local region of the network. Coom Green is just one example where alternative connection methods can lead to significant but shifted impacts as well as future cross technology generation opportunities. "
   ]
  },
  {
   "cell_type": "markdown",
   "metadata": {},
   "source": [
    "![Coom Green](Coom_Green.png)"
   ]
  },
  {
   "cell_type": "markdown",
   "metadata": {},
   "source": [
    "Certain infrastructure limitations may prevent Coom Green from connecting through Barrymore or Mallow stations. Connecting through the 220kV network also might be cost prohibitive. However, connecting this project provides an opportunity to strengthen the network north of Cork and create space for new generation such as solar. "
   ]
  },
  {
   "cell_type": "markdown",
   "metadata": {},
   "source": [
    "![Coom Green options](Coom_Green_option_numbers.png)"
   ]
  },
  {
   "cell_type": "markdown",
   "metadata": {},
   "source": [
    "The options 1-6 listed above are not comprehensive, but are realistic outcomes to connect Coom Green and potential future generation to the circuits around Mallow and Barrymore 110kV nodes. "
   ]
  },
  {
   "cell_type": "markdown",
   "metadata": {},
   "source": []
  }
 ],
 "metadata": {
  "language_info": {
   "name": "python"
  }
 },
 "nbformat": 4,
 "nbformat_minor": 2
}
