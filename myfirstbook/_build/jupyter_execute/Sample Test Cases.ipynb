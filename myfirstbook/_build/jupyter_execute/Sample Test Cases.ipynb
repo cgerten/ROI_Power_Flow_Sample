{
 "cells": [
  {
   "cell_type": "markdown",
   "metadata": {},
   "source": [
    "# Sample Test Cases"
   ]
  },
  {
   "cell_type": "markdown",
   "metadata": {},
   "source": [
    "Let's begin by investigating a prospective solar project in the early stages, with a target energization of 2031. "
   ]
  },
  {
   "cell_type": "markdown",
   "metadata": {},
   "source": [
    "![Sample Solar Prospective Project](Potential_project_sites.png)\n",
    "\n",
    "![Sample Solar Prospective Project](Charleville_Glenlara_solar_line.png)\n",
    "\n",
    "Hypothetically, if you have land in either of these general areas highlighted in the images above for solar generation development large enough to reasonably achieve 50-100 MW maximum export capacity (MEC). You may see benefit in an early screening as to which circuit would be better suited for connection."
   ]
  },
  {
   "cell_type": "markdown",
   "metadata": {},
   "source": [
    "Desktop review would reveal the following ratings for each circuit:\n",
    "\n",
    "Cashla - Ennis 110kV (178/209 MVA)\n",
    "\n",
    "Agannygal - Ennis 110kV (99/121 MVA)\n",
    "\n",
    "Castlebar - Cloon 110kV (178/209 MVA)\n",
    "\n",
    "Cashla - Doon 110kV (99/121 MVA), uprate planned according to NDP and Transmission Development Plan under CP1428\n",
    "\n",
    "Charleville - Glenlara 110kV (99/121 MVA)"
   ]
  },
  {
   "cell_type": "markdown",
   "metadata": {},
   "source": [
    "After reviewing the other network elements and generators we can obtain the first powerflow screening for each individual circuit. The below demonstrates a Summer Peak case in 2031 with solar generation dispatched to nearly 100%, wind generation dispatched to nearly 0%, storage set to 0%, interconnectors set to high export levels and other standard generation set to minimal thresholds according to minimum system operation guidelines. "
   ]
  },
  {
   "cell_type": "markdown",
   "metadata": {},
   "source": [
    "![Sample Solar Prospective Project](Agannygal_Ennis_solar.png)\n",
    "\n",
    "![Sample Solar Prospective Project](Cashla_Ennis_solar.png)\n",
    "\n",
    "![Sample Solar Prospective Project](Cashla_Dalton_solar.png)\n",
    "\n",
    "![Sample Solar Prospective Project](Castlebar_Cloon_solar.png)\n",
    "\n",
    "![Sample Solar Prospective Project](Charleville_Glenlara_solar.png)\n"
   ]
  },
  {
   "cell_type": "markdown",
   "metadata": {},
   "source": [
    "In order to get a better understanding of the performance of a sample generator at each node, DCOPF nodal analysis is run over a geographic diverse set of nodes in the system. This shows the change in net loading of the system responding to the action of that sample generator. Discharging results are shown below, but charging results are also available allowing for rapid results and judgement of how a sample demand, generator or energy storage system may perform in that unique scenario. For the previous scenario we observe the following results:\n",
    "\n",
    "Discharging 1 MW:\n",
    "\n",
    "Ennis: +1.41 %\n",
    "\n",
    "Agannygal: +1.88 %\n",
    "\n",
    "Cashla: +0.880 %\n",
    "\n",
    "Cloon: +1.235 %\n",
    "\n",
    "Dalton: +0.6265 %\n",
    "\n",
    "Castlebar: +0.2057 %\n",
    "\n",
    "Charleville: +2.92 %\n",
    "\n",
    "Glenlara: +2.02 %\n",
    "\n",
    "\n",
    "\n",
    "\n",
    "\n",
    "Aditionally,by varying the wind and solar dispatches and keeping the other variables unchanged, we can see that the loading shifts according to wind dominant vs. solar dominant dispatches with other variables kept the same. Highlighted in blue are the dispatches in which the wind capacity factor is increased while decreasing solar capacity factor and highlighted in orange performs the reverse. This presents how the existing generation puts pressure on the local circuits, particularly useful for the Charleville-Glenlara circuit as each is modelled with a medium/large solar and wind generator respectively. \n",
    "\n",
    "![Sample Solar Prospective Project](Loading_changes_added_circuit.png)"
   ]
  },
  {
   "cell_type": "markdown",
   "metadata": {},
   "source": [
    "From the other cases, we can observe the impact of local battery storage projects under adjusted dispatches. The following results are chosen from mixed dispatches with all Battery Storage projects dispatched to either full import or full export.\n",
    "\n",
    "Dispatches considered:\n",
    "\n",
    "Summer Peak: Wind CF = 64%, Solar CF = 64%, BESS full import\n",
    "\n",
    "Supper Peak: Wind CF = 26%, Solar CF = 26%, BESS full export\n",
    "\n",
    "Summer Peak: Wind CF = 93%, Solar CF = 40%, BESS full import\n",
    "\n",
    "Summer Peak: Wind CF = 35%, Solar CF = 91%, BESS full import\n",
    "\n",
    "Summer Peak: Wind CF = 49%, Solar CF = 0.1%, BESS full export\n",
    "\n",
    "Summer Peak: Wind CF = 0.1%, Solar CF = 54%, BESS full export\n"
   ]
  },
  {
   "cell_type": "markdown",
   "metadata": {},
   "source": [
    "![Sample Solar Prospective Project](intact_loading_test_solar_compare.png)\n",
    "\n",
    "Each dispatch on its own is not meant to be disqualifying, rather they are each meant to display rare occurences in the system where most hours of operation will occur below those generation thresholds. The plot above displays the tradeoffs of locating projects closer or further away to cross technology generators. Notably, the Charleville-Glenlara circuit experiencing the highest loading of the group for dispatches that are solar dominant regardless of the BESS operation. \n",
    "\n",
    "\n",
    "\n",
    "\n",
    "![Sample Solar Prospective Project](max_loading_test_solar_compare.png)\n",
    "\n",
    "Investigating the worst case contingency results further emphasizes the previous point with the Charleville-Glenlara circuit experiencing the highest loading. This presents the opportunity to review whether the new sample generator may create a new \"worst case contingency\" by connecting to that circuit or make the existing worst case contingency worse."
   ]
  },
  {
   "cell_type": "markdown",
   "metadata": {},
   "source": [
    "![Sample Solar Prospective Project](sensitivity_compare.png)"
   ]
  },
  {
   "cell_type": "markdown",
   "metadata": {},
   "source": [
    "The above displays additional capability of the tool, allowing the user to easily compare different sensitivites and compare the intact and worst case contingency loading percentages against the \"Nominal\" system. In the above results, Sensitivity_1 represents the example project connected via \"loop-in\" to the Charleville-Glenlara circuit while Sensitivity_2 represents the same case except with the test PV project connected to the Cashla-Dalton circuit instead. Sensitivity_3 is un-related to the above sample test cases, but is included because it represents the impact of removing a planned circuit geographically far away from the area of interest so as to give the user context as to how a circuit focused sensitivity appears compared to a generator focused sensitivity. "
   ]
  },
  {
   "cell_type": "markdown",
   "metadata": {},
   "source": []
  }
 ],
 "metadata": {
  "kernelspec": {
   "display_name": "roi-power-flow-sample-aukJIi7B-py3.12",
   "language": "python",
   "name": "python3"
  },
  "language_info": {
   "codemirror_mode": {
    "name": "ipython",
    "version": 3
   },
   "file_extension": ".py",
   "mimetype": "text/x-python",
   "name": "python",
   "nbconvert_exporter": "python",
   "pygments_lexer": "ipython3",
   "version": "3.12.1"
  }
 },
 "nbformat": 4,
 "nbformat_minor": 2
}