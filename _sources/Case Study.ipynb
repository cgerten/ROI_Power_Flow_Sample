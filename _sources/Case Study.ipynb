{
 "cells": [
  {
   "cell_type": "markdown",
   "metadata": {},
   "source": [
    "# Case Study"
   ]
  },
  {
   "cell_type": "markdown",
   "metadata": {},
   "source": [
    "**Understanding the potential capacity impacts of Coom Green Energy park within ECP-2.4 (171 MW Wind and Battery Storage)**\n",
    "\n",
    "\n",
    "Many projects within ECP-2.4 are large enough to have a significant impact to the load flows in their local region of the network. Coom Green is just one example where alternative connection methods can lead to significant but shifted impacts as well as future cross technology generation opportunities. The below example and background analysis reflects a 2031 Irish transmission system with the network elements and ratings updated based on the most recent information released by Eirgrid such as the NDP, TYTFS, and contracted generation lists."
   ]
  },
  {
   "cell_type": "markdown",
   "metadata": {},
   "source": [
    "![Coom Green](Coom_Green.png)"
   ]
  },
  {
   "cell_type": "markdown",
   "metadata": {},
   "source": [
    "Certain infrastructure limitations may prevent Coom Green from connecting through Barrymore or Mallow stations. Connecting through the 220kV network also might be cost prohibitive. However, connecting this project provides an opportunity to strengthen the network north of Cork and create space for new generation such as solar. "
   ]
  },
  {
   "cell_type": "markdown",
   "metadata": {},
   "source": [
    "![Coom Green options](Coom_Green_option_numbers.png)"
   ]
  },
  {
   "cell_type": "markdown",
   "metadata": {},
   "source": [
    "From a station infrastructure perspective, each option presents a certain level of challenges with the SO being the ultimate source of truth as to which works can be feasibly achieved to deliver a connection at each location. Regardless, some assumptions can be reasonably made, such as noting that a connection at Barrymore would likely require a new 110kV station constructed to the latest busbar standards as Tee stations are no longer in compliance with the latest busbar policy. If there is a desire to avoid the high capital cost of a new 220kV station, Mallow should be more closely evaluated. \n",
    "\n",
    "The options 1-6 listed above are not comprehensive, but are realistic outcomes to connect Coom Green and potential future generation to the circuits around Mallow and Barrymore 110kV nodes. Understanding the loadflow and contingency scenarios on those circuits is a pivotal first step in narrowing down feasible options. This also ensures that other industry partners can join together for analysis beneficial to future customer engagement to supply rationale for a future HLTA as a part of ECP-GSS. "
   ]
  },
  {
   "cell_type": "markdown",
   "metadata": {},
   "source": [
    "![Coom Green options](CG_NO_PV.png)\n",
    "\n",
    "![Coom Green options](CG_NO_PV_2.png)\n",
    "\n",
    "![Coom Green options](CG_NO_PV_3.png)"
   ]
  },
  {
   "cell_type": "markdown",
   "metadata": {},
   "source": [
    "Through contingency analysis of various cases focused on renewable generation, the high level differences between the different connection methods is revealed. These specific circuits were chosen as they are of greatest impact to the connection of Coom Green, any circuit can be selected to create similar plots, and the user has the ability to perform shift factor analysis with dc powerflows for each worst case contingency in order to gain a clearer understanding how some nodes contribute more to select circuits' loading under these contingencies. Coom Green Option is an example node created for the model connected between Kilnap and Mallow 110kV stations. Cases are split between interconnector export and zero (intexport and intzero), an exporting generator reflected as power flowing from Ireland toward the recieving country. Creating cases with importing interconnectors is possible, but focusing on cases with interconnector export compared to zero allow for the system scope to remain on dispatches with medium to high levels of renewable generation. \n",
    "\n",
    "Cases that include \"Mixed_BESS_Import\" have all storage generators set to their respective maximum import capacity and allow the model to achieve a higher wind or solar generation level for the complete system dispatch. Visual inspection of each plot reveals the impact of Coom Green's predicted battery storage component. \n",
    "\n",
    "On top of the take-aways related to the impact of Coom Green, the cases that are solar dominant are also relevant as they indicate which connection methods better shape the area for future solar generation capacity. Additional results below are created to demonstrate the same scenarios with a 100 MW Test PV project placed at the same connection point of Coom Green, to represent a shared connection for each sensitvity. After adding each test generator to create a new set of sensitivities, the user can evaluate the dc shift factors in order to get a more complete understanding as to where additional generation or demand can be placed to have the least impact to contingency overloads. \n",
    "\n",
    "The below plots represent the same simulation, this time with 100 MW solar project added to the same connection point as the Coom Green project."
   ]
  },
  {
   "cell_type": "markdown",
   "metadata": {},
   "source": [
    "![Coom Green options](CG_LOCAL_PV.png)\n",
    "\n",
    "![Coom Green options](CG_LOCAL_PV_2.png)\n",
    "\n",
    "![Coom Green options](CG_LOCAL_PV_3.png)"
   ]
  },
  {
   "cell_type": "markdown",
   "metadata": {},
   "source": [
    "Similar to the results without the new 100 MW solar project, Kilnap - Knockraha overloads persist as the circuit has a rating of 99/121 MVA. Future station works may easily upgrade that element as the contingency overload appears even in the nominal network without the impact of Coom Green. More importantly, the Kilnap - Coom Green Option circuit (pre-existing as Kilnap-Mallow) with a rating of 134/159 MVA more clearly shows the direct impact of Coom Green with and without the added solar generation. More energy is filled in the available transmission capacity thanks to the complementarity of the wind/solar resource, at the cost of added contingency overload occurences, thoughout all sensitivities this circuit is the most revealing as to the benefits in MEC reduction. MEC reduction isn't the only solution as an opportunity for new demand or additional storage capacity at the Coom Green site would resolve many of the previously discussed concerns, being located in close proximity to a 220kV circuit while maintaining a significant geographic distance from the short circuit levels of Cork city are further opportunity observations.\n",
    "\n",
    "The complementarity of the wind and solar resource is widely known within the industry and the above cases are an attempt to reflect the reasonable generation curves over the course of a sample year. While not as granular compared to a PLEXOS supported constraints study each case provides a sufficient view on how scaling demand, generation level and network rating impacts the worst case contingency loadings. This information allows both the system operator and developer to discuss what changes can be made that would best suit the overall development. For example, the above plots reflect more than 100 MW of wind, 100 MW of solar, but only 50 MW of battery storage, increasing that battery storage would positively impact the cases showing high renewable generation with batteries importing. However, it is still a question for future system operation on how likely these times of import will align with spiking wind and solar generation profiles. "
   ]
  },
  {
   "cell_type": "markdown",
   "metadata": {},
   "source": [
    "Benefit to developer seeking to bring this forward as engagement with the system operator:\n",
    " - The advantage of having these results when presenting a case for connection to the system operator is to show the added network benefit that a forthcoming project may bring in order to warrant additional build out of the system outside the standard costing that would be required at minimum to connect Coom Green. \n",
    " - This type of load flow screening is happening regardless, completing this now, on the developer side, allows for a more efficient pathway to getting a favorable HLTS and eventual connection offer. \n",
    " - There is a certain amount of 110kV station works that would have to be done at Barrymore station that need to be considered by the developer, therefore it would help to know in advance how much extra generation/demand capacity should be brought forward to rationalize new station developments on the Barrymore circuits compared to a more simple connection method into an available bay at the Mallow station. "
   ]
  },
  {
   "cell_type": "markdown",
   "metadata": {},
   "source": []
  }
 ],
 "metadata": {
  "language_info": {
   "name": "python"
  }
 },
 "nbformat": 4,
 "nbformat_minor": 2
}
