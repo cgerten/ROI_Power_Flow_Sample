{
 "cells": [
  {
   "cell_type": "markdown",
   "metadata": {},
   "source": [
    "# Sample Test Cases"
   ]
  },
  {
   "cell_type": "markdown",
   "metadata": {},
   "source": [
    "Let's begin by investigating a prospective solar project in the early stages, with a target energization of 2031. "
   ]
  },
  {
   "cell_type": "markdown",
   "metadata": {},
   "source": [
    "![Sample Solar Prospective Project](Potential_project_sites.png)\n",
    "\n",
    "Hypothetically, if you have land in either of these general areas highlighted in the image above for solar generation development large enough to reasonably achieve 50-100 MW maximum export capacity (MEC). You may see benefit in an early screening as to which circuit would be better suited for connection."
   ]
  },
  {
   "cell_type": "markdown",
   "metadata": {},
   "source": [
    "Desktop review would reveal the following ratings for each circuit:\n",
    "\n",
    "Cashla - Ennis 110kV (178/209 MVA)\n",
    "\n",
    "Agannygal - Ennis 110kV (99/121 MVA)\n",
    "\n",
    "Castlebar - Cloon 110kV (178/209 MVA)\n",
    "\n",
    "Cashla - Doon 110kV (99/121 MVA), uprate planned according to NDP and Transmission Development Plan under CP1428"
   ]
  },
  {
   "cell_type": "markdown",
   "metadata": {},
   "source": [
    "After reviewing the other network elements and generators we can obtain the first powerflow screening for each individual circuit. The below demonstrates a Summer Peak case in 2031 with solar generation dispatched to nearly 100%, wind generation dispatched to nearly 0%, storage set to 0%, interconnectors set to high export levels and other standard generation set to minimal thresholds according to minimum system operation guidelines. "
   ]
  },
  {
   "cell_type": "markdown",
   "metadata": {},
   "source": [
    "![Sample Solar Prospective Project](Agannygal_Ennis_solar.png)\n",
    "\n",
    "![Sample Solar Prospective Project](Cashla_Ennis_solar.png)\n",
    "\n",
    "![Sample Solar Prospective Project](Cashla_Dalton_solar.png)\n",
    "\n",
    "![Sample Solar Prospective Project](Castlebar_Cloon_solar.png)\n"
   ]
  },
  {
   "cell_type": "markdown",
   "metadata": {},
   "source": [
    "At first glance, the loading differences appear to be minimal, at each of the following nodes we can see how a sample generator connected to that node would change the net loading in the system.\n",
    "\n",
    "Discharging 1 MW:\n",
    "\n",
    "Ennis: +1.41 %\n",
    "\n",
    "Agannygal: +1.88 %\n",
    "\n",
    "Cashla: +0.880 %\n",
    "\n",
    "Cloon: +1.235 %\n",
    "\n",
    "Dalton: +0.6265 %\n",
    "\n",
    "Castlebar: +0.2057 %\n",
    "\n",
    "\n",
    "\n",
    "\n",
    "\n",
    "Aditionally,by varying the wind and solar dispatches and keeping the other variables unchanged, we can see that the loading shifts according to wind dominant vs. solar dominant dispatches with other variables kept the same. Highlighted in blue are the dispatches in which the wind capacity factor is increased while decreasing solar capacity factor and highlighted in orange performs the reverse. The intact loading percentages reveal how the circuits under consideration to the north are more heavily utilized in wind dominant dispatches. \n",
    "\n",
    "![Sample Solar Prospective Project](Loading_changes.png)"
   ]
  },
  {
   "cell_type": "markdown",
   "metadata": {},
   "source": [
    "From the other cases, we can observe the impact of local battery storage projects under adjusted dispatches. The following results are shosen from mixed dispatches with all Battery Storage projects dispatched to full import.\n",
    "\n",
    "Dispatches considered:\n",
    "\n",
    "Summer Valley: Wind CF = 10%, Solar CF = 10%\n",
    "\n",
    "Supper Peak: Wind CF = 27%, Solar CF = 27%\n",
    "\n",
    "Summer Peak Solar Dominant: Wind CF = 0.1%, Solar CF = 59%\n",
    "\n",
    "Summer Peak Wind Dominant: Wind CF = 51%, Solar CF = 0.1%\n"
   ]
  },
  {
   "cell_type": "markdown",
   "metadata": {},
   "source": []
  }
 ],
 "metadata": {
  "kernelspec": {
   "display_name": "roi-power-flow-sample-aukJIi7B-py3.12",
   "language": "python",
   "name": "python3"
  },
  "language_info": {
   "codemirror_mode": {
    "name": "ipython",
    "version": 3
   },
   "file_extension": ".py",
   "mimetype": "text/x-python",
   "name": "python",
   "nbconvert_exporter": "python",
   "pygments_lexer": "ipython3",
   "version": "3.12.1"
  }
 },
 "nbformat": 4,
 "nbformat_minor": 2
}