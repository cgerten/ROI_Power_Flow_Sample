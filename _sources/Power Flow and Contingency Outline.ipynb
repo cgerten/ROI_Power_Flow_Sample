{
 "cells": [
  {
   "cell_type": "markdown",
   "id": "b816b4d9",
   "metadata": {},
   "source": [
    "# ROI Power System Analysis Tool Outline"
   ]
  },
  {
   "cell_type": "markdown",
   "id": "a704a820",
   "metadata": {},
   "source": [
    "The tool is built and regularly updated using public sources including but not limited to Eirgrid's Ten Year Transmission Forecast Statement (TYTFS). The model operates in a simple manner for powerflow analysis, utilizing the open source tool PandaPower and other python functionality for data processing. It is currently focused on modeling scenarios in summer of 2031, but can easily be updated to reflect other scenarios or years in order to meet the needs of the user. At the moment it only models ROI, does not model any NI network but can be expanded as necessary to fit further needs. \n",
    "\n",
    "Outputs can come in many forms, line loading and bus results can be produced by csv files in \"Results\" folder. Various plots are also provided for a visual representation of the load flow, worst case contingency and test energy storage net impact. Load flow is solved using ACOPF newton raphson using DC initialization. Energy storage net impact is done using DCOPF and measures the sum of loading change before and after implementing the energy storage generator in an intact system providing the user a high level locational aspect as to which nodes are better suited for additional generation or demand for each unique scenario."
   ]
  },
  {
   "cell_type": "markdown",
   "id": "17d64c48",
   "metadata": {},
   "source": [
    "**Determining optimal system wind and solar capacity factors to obtain convergence**\n",
    "- In order to build cases for screening, it's important to first determine what the maximum tollerable wind and solar capacity factors are that will still allow each case to solve and converge properly. The goal being to find the levels of renewable energy dispatch that allow the system to converge for each unique case and scenario. Each unique case is meant to represent a wind dominant, solar dominant or mixed renewable dispatch that is seen to be rare in occurence. This is informed by assessing hourly dispatch data from ECP constraint reports, Tomorrow's Energy Scenarios (TES), and other data from Eirgrid and ESB. The below screenshot is an example output that feeds into the next stages as the starting point capacity factors used for each case under study.\n",
    "\n",
    "![Optimal Capacity Factors](Optimal_cf.png)\n",
    "\n",
    "The purpose of the Mixed_varied_No_BESS is to create sub-cases in order to dig deeper into comparing which circuits and transformers experience the largest change in loading when shifting between a mixed dispatch to a wind or solar dominant dispatch within that same season of study (summer). The user has the ability to list any network element in order to monitor changes to the power flow result caused by the varied dispatches. Below is a sample plot comparing various 110kV circuits starting with a mixed dispatch, shifting first toward wind dominant, then resetting at configuration 9 and shifting toward a solar dominant dispatch. Line loading percentages are plotted, but other system result metrics such as bus voltage can be chosen as well:\n",
    "\n",
    "![Loading Percentages for Specified Lines Across Configurations](Loading_percentages.png)"
   ]
  },
  {
   "cell_type": "markdown",
   "id": "3ebbb4b9",
   "metadata": {},
   "source": [
    "**Detailed intact powerflow, contingency and BESS nodal results**\n",
    "\n",
    "![Detailed Output of script](Detailed_output.png)\n",
    "\n",
    "- The user can then specify which sensitivities they would like to have run in order to compare the results with/without certain elements, network upgrades, or generator sizes. Allowing the user to gage the net impact of select changes and easily compare future options.\n",
    "- The script will automatically take each case and dispatch from the previous cell in order to solve and display results. Users can then review comprehensive bus, line, and transformer intact and contingency results. \n",
    "- Various power flow calculation methods are attempted each time, although typically success is reached by utilizing Newton Raphson initialized in a DC manner with Q limits on each generator enforced. \n",
    "- The slack generator in this model is Turlogh Hill with each of the four individual generators combined into a single slack generator. In nearly all attempts, the generation level of this slack bus generator should be minimized as it is typically only used for minor reserve balancing. \n",
    "- After the Slack Generator output, there are best and worst results for charging and discharging nodal analysis done with DCOPF. This portion of the script places a sample 1 MW generator at each node, solves the model and notes total net change in line/transformer loading in an intact system. Afterwards it provides the best and worst results sorted by smallest to largest as the point is to find nodes where a generator has a net negative impact to line loading. It first completes this with the generator set to \"charge\" as in negative power production, then moves to \"discharge\". This is done using DCOPF in order to prioritize efficiency for this portion of the script. While described as the impact of test BESS, this can be utilized to compare various nodes for which are better suited for additional generation or additional load in a lightweight initial screening view. It should be noted that the \"charging\" and \"discharging\" results should be almost mirrored in most cases. \n",
    "- It is worth noting that because it measures the impact in such a way that compares net loading percentage before and after connecting the test generator, this carries a bias toward nodes that are closest to generation nodes or remotely  connected nodes. For example, Sorne Hill and Letterkenny tend to be the best result in test BESS charging cases for wind dominant dispatches as they contain fairly isolated wind generators. \n",
    "\n",
    "\n",
    "\n",
    "**Detailed intact powerflow, contingency and BESS nodal results**\n",
    "\n",
    "![Plotly output from powerflow](Plotly_output.png)\n",
    "\n",
    "- For each successful case, a network diagram is created to display the power flow results. Plotly is used to display these results from PandaPower. This sample shows output from a wind dominant dispatch with BESS units set to zero in the Summer Peak of 2031. \n",
    "- By hovering over the midpoint of each line, the user can determine the line name, intact loading percentage, real and reactive power, worst case loading percentage and the element which causes that worst case overload. Each line is color coded based on intact line loading, turning more red-tinted as the loading increases and blue as the line loading decreases. In the above example, Cahir-Doon experiences a line loading of roughly 100%. Arrows on each line display the real power flow direction. By hovering over each node, results from the test BESS net impact are found, allowing the user to quickly compare which nodes would have a better net loading impact by having a charging or discharging generator connected at the node. "
   ]
  },
  {
   "cell_type": "markdown",
   "id": "bb8dc0ce",
   "metadata": {},
   "source": [
    "**Further options and additional functionality**\n",
    "\n",
    "Additional functionality includes but is not limited to:\n",
    "- Nodal hosting capacity analysis. \n",
    "- Generator connection method option comparison. \n",
    "- Network reinforcement sensitivities.\n",
    "- Expanding applicable cases such that a subset of a full year 8760 economic dispatch can be run in order to assess the frequency of highly loaded network elements. This is done in a manner to imitate Eirgrid constraint study without using an economic dispatch model such as PLEXOS. \n",
    "\n",
    "Further options under development:\n",
    "- Expanding existing nodal BESS net impact functionality such that the net impact is measured by worst case contingency. \n",
    "- Shift factor analysis\n",
    "- Comprehensive plotting and geographic overlay.\n",
    "- Integration with ChatGPT or Llama \n",
    "\n",
    "Advantages and Disadvantages:\n",
    "- Significantly cheaper than TARA or PSSE. \n",
    "- More easily adaptable to various python libraries and packages. \n",
    "- Minimal technical or power system knowledge required. \n",
    "\n",
    "While this tool is not perfect, it provides a quick, light-weight screening for HV transmission nodes in the Irish system. The background data feeding into this tool is reviewed, aggregated, and compared against the latest system information provided publically by Eirgrid and ESB."
   ]
  },
  {
   "cell_type": "code",
   "execution_count": null,
   "id": "694d08d3",
   "metadata": {},
   "outputs": [],
   "source": []
  }
 ],
 "metadata": {
  "kernelspec": {
   "display_name": "Python 3 (ipykernel)",
   "language": "python",
   "name": "python3"
  },
  "language_info": {
   "codemirror_mode": {
    "name": "ipython",
    "version": 3
   },
   "file_extension": ".py",
   "mimetype": "text/x-python",
   "name": "python",
   "nbconvert_exporter": "python",
   "pygments_lexer": "ipython3",
   "version": "3.12.1"
  }
 },
 "nbformat": 4,
 "nbformat_minor": 5
}
